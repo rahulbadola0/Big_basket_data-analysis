{
 "cells": [
  {
   "cell_type": "code",
   "execution_count": 1,
   "id": "c01c7474",
   "metadata": {},
   "outputs": [],
   "source": [
    "# Importing Libraries\n",
    "\n",
    "import numpy as np\n",
    "import pandas as pd\n",
    "import seaborn as sns\n",
    "import matplotlib.pyplot as plt"
   ]
  },
  {
   "cell_type": "code",
   "execution_count": 2,
   "id": "77f33d17",
   "metadata": {},
   "outputs": [],
   "source": [
    "# Loading Dataset\n",
    "df=pd.read_csv('bigbasket.csv')"
   ]
  },
  {
   "cell_type": "code",
   "execution_count": 3,
   "id": "e0011e7f",
   "metadata": {},
   "outputs": [
    {
     "data": {
      "text/html": [
       "<div>\n",
       "<style scoped>\n",
       "    .dataframe tbody tr th:only-of-type {\n",
       "        vertical-align: middle;\n",
       "    }\n",
       "\n",
       "    .dataframe tbody tr th {\n",
       "        vertical-align: top;\n",
       "    }\n",
       "\n",
       "    .dataframe thead th {\n",
       "        text-align: right;\n",
       "    }\n",
       "</style>\n",
       "<table border=\"1\" class=\"dataframe\">\n",
       "  <thead>\n",
       "    <tr style=\"text-align: right;\">\n",
       "      <th></th>\n",
       "      <th>index</th>\n",
       "      <th>product</th>\n",
       "      <th>category</th>\n",
       "      <th>sub_category</th>\n",
       "      <th>brand</th>\n",
       "      <th>sale_price</th>\n",
       "      <th>market_price</th>\n",
       "      <th>type</th>\n",
       "      <th>rating</th>\n",
       "      <th>description</th>\n",
       "    </tr>\n",
       "  </thead>\n",
       "  <tbody>\n",
       "    <tr>\n",
       "      <th>0</th>\n",
       "      <td>1</td>\n",
       "      <td>Garlic Oil - Vegetarian Capsule 500 mg</td>\n",
       "      <td>Beauty &amp; Hygiene</td>\n",
       "      <td>Hair Care</td>\n",
       "      <td>Sri Sri Ayurveda</td>\n",
       "      <td>220.0</td>\n",
       "      <td>220.0</td>\n",
       "      <td>Hair Oil &amp; Serum</td>\n",
       "      <td>4.1</td>\n",
       "      <td>This Product contains Garlic Oil that is known...</td>\n",
       "    </tr>\n",
       "    <tr>\n",
       "      <th>1</th>\n",
       "      <td>2</td>\n",
       "      <td>Water Bottle - Orange</td>\n",
       "      <td>Kitchen, Garden &amp; Pets</td>\n",
       "      <td>Storage &amp; Accessories</td>\n",
       "      <td>Mastercook</td>\n",
       "      <td>180.0</td>\n",
       "      <td>180.0</td>\n",
       "      <td>Water &amp; Fridge Bottles</td>\n",
       "      <td>2.3</td>\n",
       "      <td>Each product is microwave safe (without lid), ...</td>\n",
       "    </tr>\n",
       "    <tr>\n",
       "      <th>2</th>\n",
       "      <td>3</td>\n",
       "      <td>Brass Angle Deep - Plain, No.2</td>\n",
       "      <td>Cleaning &amp; Household</td>\n",
       "      <td>Pooja Needs</td>\n",
       "      <td>Trm</td>\n",
       "      <td>119.0</td>\n",
       "      <td>250.0</td>\n",
       "      <td>Lamp &amp; Lamp Oil</td>\n",
       "      <td>3.4</td>\n",
       "      <td>A perfect gift for all occasions, be it your m...</td>\n",
       "    </tr>\n",
       "    <tr>\n",
       "      <th>3</th>\n",
       "      <td>4</td>\n",
       "      <td>Cereal Flip Lid Container/Storage Jar - Assort...</td>\n",
       "      <td>Cleaning &amp; Household</td>\n",
       "      <td>Bins &amp; Bathroom Ware</td>\n",
       "      <td>Nakoda</td>\n",
       "      <td>149.0</td>\n",
       "      <td>176.0</td>\n",
       "      <td>Laundry, Storage Baskets</td>\n",
       "      <td>3.7</td>\n",
       "      <td>Multipurpose container with an attractive desi...</td>\n",
       "    </tr>\n",
       "    <tr>\n",
       "      <th>4</th>\n",
       "      <td>5</td>\n",
       "      <td>Creme Soft Soap - For Hands &amp; Body</td>\n",
       "      <td>Beauty &amp; Hygiene</td>\n",
       "      <td>Bath &amp; Hand Wash</td>\n",
       "      <td>Nivea</td>\n",
       "      <td>162.0</td>\n",
       "      <td>162.0</td>\n",
       "      <td>Bathing Bars &amp; Soaps</td>\n",
       "      <td>4.4</td>\n",
       "      <td>Nivea Creme Soft Soap gives your skin the best...</td>\n",
       "    </tr>\n",
       "    <tr>\n",
       "      <th>5</th>\n",
       "      <td>6</td>\n",
       "      <td>Germ - Removal Multipurpose Wipes</td>\n",
       "      <td>Cleaning &amp; Household</td>\n",
       "      <td>All Purpose Cleaners</td>\n",
       "      <td>Nature Protect</td>\n",
       "      <td>169.0</td>\n",
       "      <td>199.0</td>\n",
       "      <td>Disinfectant Spray &amp; Cleaners</td>\n",
       "      <td>3.3</td>\n",
       "      <td>Stay protected from contamination with Multipu...</td>\n",
       "    </tr>\n",
       "    <tr>\n",
       "      <th>6</th>\n",
       "      <td>7</td>\n",
       "      <td>Multani Mati</td>\n",
       "      <td>Beauty &amp; Hygiene</td>\n",
       "      <td>Skin Care</td>\n",
       "      <td>Satinance</td>\n",
       "      <td>58.0</td>\n",
       "      <td>58.0</td>\n",
       "      <td>Face Care</td>\n",
       "      <td>3.6</td>\n",
       "      <td>Satinance multani matti is an excellent skin t...</td>\n",
       "    </tr>\n",
       "    <tr>\n",
       "      <th>7</th>\n",
       "      <td>8</td>\n",
       "      <td>Hand Sanitizer - 70% Alcohol Base</td>\n",
       "      <td>Beauty &amp; Hygiene</td>\n",
       "      <td>Bath &amp; Hand Wash</td>\n",
       "      <td>Bionova</td>\n",
       "      <td>250.0</td>\n",
       "      <td>250.0</td>\n",
       "      <td>Hand Wash &amp; Sanitizers</td>\n",
       "      <td>4.0</td>\n",
       "      <td>70%Alcohol based is gentle of hand leaves skin...</td>\n",
       "    </tr>\n",
       "    <tr>\n",
       "      <th>8</th>\n",
       "      <td>9</td>\n",
       "      <td>Biotin &amp; Collagen Volumizing Hair Shampoo + Bi...</td>\n",
       "      <td>Beauty &amp; Hygiene</td>\n",
       "      <td>Hair Care</td>\n",
       "      <td>StBotanica</td>\n",
       "      <td>1098.0</td>\n",
       "      <td>1098.0</td>\n",
       "      <td>Shampoo &amp; Conditioner</td>\n",
       "      <td>3.5</td>\n",
       "      <td>An exclusive blend with Vitamin B7 Biotin, Hyd...</td>\n",
       "    </tr>\n",
       "    <tr>\n",
       "      <th>9</th>\n",
       "      <td>10</td>\n",
       "      <td>Scrub Pad - Anti- Bacterial, Regular</td>\n",
       "      <td>Cleaning &amp; Household</td>\n",
       "      <td>Mops, Brushes &amp; Scrubs</td>\n",
       "      <td>Scotch brite</td>\n",
       "      <td>20.0</td>\n",
       "      <td>20.0</td>\n",
       "      <td>Utensil Scrub-Pad, Glove</td>\n",
       "      <td>4.3</td>\n",
       "      <td>Scotch Brite Anti- Bacterial Scrub Pad thoroug...</td>\n",
       "    </tr>\n",
       "    <tr>\n",
       "      <th>10</th>\n",
       "      <td>11</td>\n",
       "      <td>Wheat Grass Powder - Raw</td>\n",
       "      <td>Gourmet &amp; World Food</td>\n",
       "      <td>Cooking &amp; Baking Needs</td>\n",
       "      <td>NUTRASHIL</td>\n",
       "      <td>261.0</td>\n",
       "      <td>290.0</td>\n",
       "      <td>Flours &amp; Pre-Mixes</td>\n",
       "      <td>4.0</td>\n",
       "      <td>Wheatgrass is a superfood potent health food w...</td>\n",
       "    </tr>\n",
       "    <tr>\n",
       "      <th>11</th>\n",
       "      <td>12</td>\n",
       "      <td>Butter Cookies Gold Collection</td>\n",
       "      <td>Gourmet &amp; World Food</td>\n",
       "      <td>Chocolates &amp; Biscuits</td>\n",
       "      <td>Sapphire</td>\n",
       "      <td>600.0</td>\n",
       "      <td>600.0</td>\n",
       "      <td>Luxury Chocolates, Gifts</td>\n",
       "      <td>2.2</td>\n",
       "      <td>Enjoy a tin full of delicious butter cookies m...</td>\n",
       "    </tr>\n",
       "  </tbody>\n",
       "</table>\n",
       "</div>"
      ],
      "text/plain": [
       "    index                                            product  \\\n",
       "0       1             Garlic Oil - Vegetarian Capsule 500 mg   \n",
       "1       2                              Water Bottle - Orange   \n",
       "2       3                     Brass Angle Deep - Plain, No.2   \n",
       "3       4  Cereal Flip Lid Container/Storage Jar - Assort...   \n",
       "4       5                 Creme Soft Soap - For Hands & Body   \n",
       "5       6                  Germ - Removal Multipurpose Wipes   \n",
       "6       7                                       Multani Mati   \n",
       "7       8                  Hand Sanitizer - 70% Alcohol Base   \n",
       "8       9  Biotin & Collagen Volumizing Hair Shampoo + Bi...   \n",
       "9      10               Scrub Pad - Anti- Bacterial, Regular   \n",
       "10     11                           Wheat Grass Powder - Raw   \n",
       "11     12                     Butter Cookies Gold Collection   \n",
       "\n",
       "                  category            sub_category              brand  \\\n",
       "0         Beauty & Hygiene               Hair Care  Sri Sri Ayurveda    \n",
       "1   Kitchen, Garden & Pets   Storage & Accessories         Mastercook   \n",
       "2     Cleaning & Household             Pooja Needs                Trm   \n",
       "3     Cleaning & Household    Bins & Bathroom Ware             Nakoda   \n",
       "4         Beauty & Hygiene        Bath & Hand Wash              Nivea   \n",
       "5     Cleaning & Household    All Purpose Cleaners     Nature Protect   \n",
       "6         Beauty & Hygiene               Skin Care          Satinance   \n",
       "7         Beauty & Hygiene        Bath & Hand Wash            Bionova   \n",
       "8         Beauty & Hygiene               Hair Care         StBotanica   \n",
       "9     Cleaning & Household  Mops, Brushes & Scrubs       Scotch brite   \n",
       "10    Gourmet & World Food  Cooking & Baking Needs          NUTRASHIL   \n",
       "11    Gourmet & World Food   Chocolates & Biscuits           Sapphire   \n",
       "\n",
       "    sale_price  market_price                           type  rating  \\\n",
       "0        220.0         220.0               Hair Oil & Serum     4.1   \n",
       "1        180.0         180.0         Water & Fridge Bottles     2.3   \n",
       "2        119.0         250.0                Lamp & Lamp Oil     3.4   \n",
       "3        149.0         176.0       Laundry, Storage Baskets     3.7   \n",
       "4        162.0         162.0           Bathing Bars & Soaps     4.4   \n",
       "5        169.0         199.0  Disinfectant Spray & Cleaners     3.3   \n",
       "6         58.0          58.0                      Face Care     3.6   \n",
       "7        250.0         250.0         Hand Wash & Sanitizers     4.0   \n",
       "8       1098.0        1098.0          Shampoo & Conditioner     3.5   \n",
       "9         20.0          20.0       Utensil Scrub-Pad, Glove     4.3   \n",
       "10       261.0         290.0             Flours & Pre-Mixes     4.0   \n",
       "11       600.0         600.0       Luxury Chocolates, Gifts     2.2   \n",
       "\n",
       "                                          description  \n",
       "0   This Product contains Garlic Oil that is known...  \n",
       "1   Each product is microwave safe (without lid), ...  \n",
       "2   A perfect gift for all occasions, be it your m...  \n",
       "3   Multipurpose container with an attractive desi...  \n",
       "4   Nivea Creme Soft Soap gives your skin the best...  \n",
       "5   Stay protected from contamination with Multipu...  \n",
       "6   Satinance multani matti is an excellent skin t...  \n",
       "7   70%Alcohol based is gentle of hand leaves skin...  \n",
       "8   An exclusive blend with Vitamin B7 Biotin, Hyd...  \n",
       "9   Scotch Brite Anti- Bacterial Scrub Pad thoroug...  \n",
       "10  Wheatgrass is a superfood potent health food w...  \n",
       "11  Enjoy a tin full of delicious butter cookies m...  "
      ]
     },
     "execution_count": 3,
     "metadata": {},
     "output_type": "execute_result"
    }
   ],
   "source": [
    "# Looking 1st 12 Rows\n",
    "\n",
    "df.head(12)"
   ]
  },
  {
   "cell_type": "code",
   "execution_count": 217,
   "id": "e6cd24a8",
   "metadata": {},
   "outputs": [
    {
     "data": {
      "text/html": [
       "<div>\n",
       "<style scoped>\n",
       "    .dataframe tbody tr th:only-of-type {\n",
       "        vertical-align: middle;\n",
       "    }\n",
       "\n",
       "    .dataframe tbody tr th {\n",
       "        vertical-align: top;\n",
       "    }\n",
       "\n",
       "    .dataframe thead th {\n",
       "        text-align: right;\n",
       "    }\n",
       "</style>\n",
       "<table border=\"1\" class=\"dataframe\">\n",
       "  <thead>\n",
       "    <tr style=\"text-align: right;\">\n",
       "      <th></th>\n",
       "      <th>index</th>\n",
       "      <th>sale_price</th>\n",
       "      <th>market_price</th>\n",
       "      <th>rating</th>\n",
       "    </tr>\n",
       "  </thead>\n",
       "  <tbody>\n",
       "    <tr>\n",
       "      <th>count</th>\n",
       "      <td>27555.00000</td>\n",
       "      <td>27549.000000</td>\n",
       "      <td>27555.000000</td>\n",
       "      <td>18919.000000</td>\n",
       "    </tr>\n",
       "    <tr>\n",
       "      <th>mean</th>\n",
       "      <td>13778.00000</td>\n",
       "      <td>334.648391</td>\n",
       "      <td>382.056664</td>\n",
       "      <td>3.943295</td>\n",
       "    </tr>\n",
       "    <tr>\n",
       "      <th>std</th>\n",
       "      <td>7954.58767</td>\n",
       "      <td>1202.102113</td>\n",
       "      <td>581.730717</td>\n",
       "      <td>0.739217</td>\n",
       "    </tr>\n",
       "    <tr>\n",
       "      <th>min</th>\n",
       "      <td>1.00000</td>\n",
       "      <td>2.450000</td>\n",
       "      <td>3.000000</td>\n",
       "      <td>1.000000</td>\n",
       "    </tr>\n",
       "    <tr>\n",
       "      <th>25%</th>\n",
       "      <td>6889.50000</td>\n",
       "      <td>95.000000</td>\n",
       "      <td>100.000000</td>\n",
       "      <td>3.700000</td>\n",
       "    </tr>\n",
       "    <tr>\n",
       "      <th>50%</th>\n",
       "      <td>13778.00000</td>\n",
       "      <td>190.320000</td>\n",
       "      <td>220.000000</td>\n",
       "      <td>4.100000</td>\n",
       "    </tr>\n",
       "    <tr>\n",
       "      <th>75%</th>\n",
       "      <td>20666.50000</td>\n",
       "      <td>359.000000</td>\n",
       "      <td>425.000000</td>\n",
       "      <td>4.300000</td>\n",
       "    </tr>\n",
       "    <tr>\n",
       "      <th>max</th>\n",
       "      <td>27555.00000</td>\n",
       "      <td>112475.000000</td>\n",
       "      <td>12500.000000</td>\n",
       "      <td>5.000000</td>\n",
       "    </tr>\n",
       "  </tbody>\n",
       "</table>\n",
       "</div>"
      ],
      "text/plain": [
       "             index     sale_price  market_price        rating\n",
       "count  27555.00000   27549.000000  27555.000000  18919.000000\n",
       "mean   13778.00000     334.648391    382.056664      3.943295\n",
       "std     7954.58767    1202.102113    581.730717      0.739217\n",
       "min        1.00000       2.450000      3.000000      1.000000\n",
       "25%     6889.50000      95.000000    100.000000      3.700000\n",
       "50%    13778.00000     190.320000    220.000000      4.100000\n",
       "75%    20666.50000     359.000000    425.000000      4.300000\n",
       "max    27555.00000  112475.000000  12500.000000      5.000000"
      ]
     },
     "execution_count": 217,
     "metadata": {},
     "output_type": "execute_result"
    }
   ],
   "source": [
    "# Getting Discription of Dataset\n",
    "\n",
    "df.describe()"
   ]
  },
  {
   "cell_type": "code",
   "execution_count": 218,
   "id": "cf384ecc",
   "metadata": {},
   "outputs": [
    {
     "name": "stdout",
     "output_type": "stream",
     "text": [
      "<class 'pandas.core.frame.DataFrame'>\n",
      "RangeIndex: 27555 entries, 0 to 27554\n",
      "Data columns (total 10 columns):\n",
      " #   Column        Non-Null Count  Dtype  \n",
      "---  ------        --------------  -----  \n",
      " 0   index         27555 non-null  int64  \n",
      " 1   product       27554 non-null  object \n",
      " 2   category      27555 non-null  object \n",
      " 3   sub_category  27555 non-null  object \n",
      " 4   brand         27554 non-null  object \n",
      " 5   sale_price    27549 non-null  float64\n",
      " 6   market_price  27555 non-null  float64\n",
      " 7   type          27555 non-null  object \n",
      " 8   rating        18919 non-null  float64\n",
      " 9   description   27440 non-null  object \n",
      "dtypes: float64(3), int64(1), object(6)\n",
      "memory usage: 2.1+ MB\n"
     ]
    }
   ],
   "source": [
    "# Getting Information About The dataset\n",
    "\n",
    "df.info()"
   ]
  },
  {
   "cell_type": "code",
   "execution_count": 219,
   "id": "b6002c7a",
   "metadata": {},
   "outputs": [
    {
     "data": {
      "text/plain": [
       "product\n",
       "Germ Removal Detergent                                                    1\n",
       "Germ Protection Soap                                                      1\n",
       "Germ Protection Multipurpose Thick & Soft Wet Wipes with Fliptop Lid      1\n",
       "Germ Protection Kit - Soap, Handwash, Hand Sanitizer & Germ Kill Spray    1\n",
       "pasta shell                                                               1\n",
       "Name: count, dtype: int64"
      ]
     },
     "execution_count": 219,
     "metadata": {},
     "output_type": "execute_result"
    }
   ],
   "source": [
    "#Least sold Product\n",
    "df.value_counts('product').tail()\n",
    "\n",
    "# Least selling products are 'Germ Removal Detergent','Germ Protection Soap'.....etc.."
   ]
  },
  {
   "cell_type": "code",
   "execution_count": 220,
   "id": "cfd6a06c",
   "metadata": {},
   "outputs": [
    {
     "data": {
      "text/plain": [
       "product\n",
       "Turmeric Powder/Arisina Pudi    26\n",
       "Extra Virgin Olive Oil          15\n",
       "Cow Ghee/Tuppa                  14\n",
       "Olive Oil - Extra Virgin        12\n",
       "Soft Drink                      12\n",
       "Name: count, dtype: int64"
      ]
     },
     "execution_count": 220,
     "metadata": {},
     "output_type": "execute_result"
    }
   ],
   "source": [
    "#Most sold Product\n",
    "df.value_counts('product').head()\n",
    "\n",
    "#Most selling products are 'Turmeric Powder/Arisina Pudi ' followed by 'Extra Virgin Olive Oil' etc.."
   ]
  },
  {
   "cell_type": "code",
   "execution_count": 221,
   "id": "b0eb73d4",
   "metadata": {},
   "outputs": [],
   "source": [
    "#Measuring Discount\n",
    "t_dis=df.loc[0:,['product','market_price','sale_price']]\n",
    "t_dis['discount']=df.market_price-df.sale_price\n",
    "t_dis['discount in %']=(t_dis.discount/df.market_price)*100"
   ]
  },
  {
   "cell_type": "code",
   "execution_count": 222,
   "id": "e32c237c",
   "metadata": {},
   "outputs": [
    {
     "data": {
      "text/html": [
       "<div>\n",
       "<style scoped>\n",
       "    .dataframe tbody tr th:only-of-type {\n",
       "        vertical-align: middle;\n",
       "    }\n",
       "\n",
       "    .dataframe tbody tr th {\n",
       "        vertical-align: top;\n",
       "    }\n",
       "\n",
       "    .dataframe thead th {\n",
       "        text-align: right;\n",
       "    }\n",
       "</style>\n",
       "<table border=\"1\" class=\"dataframe\">\n",
       "  <thead>\n",
       "    <tr style=\"text-align: right;\">\n",
       "      <th></th>\n",
       "      <th>product</th>\n",
       "      <th>market_price</th>\n",
       "      <th>sale_price</th>\n",
       "      <th>discount</th>\n",
       "      <th>discount in %</th>\n",
       "    </tr>\n",
       "  </thead>\n",
       "  <tbody>\n",
       "    <tr>\n",
       "      <th>0</th>\n",
       "      <td>Garlic Oil - Vegetarian Capsule 500 mg</td>\n",
       "      <td>220.0</td>\n",
       "      <td>220.0</td>\n",
       "      <td>0.0</td>\n",
       "      <td>0.0</td>\n",
       "    </tr>\n",
       "    <tr>\n",
       "      <th>1</th>\n",
       "      <td>Water Bottle - Orange</td>\n",
       "      <td>180.0</td>\n",
       "      <td>180.0</td>\n",
       "      <td>0.0</td>\n",
       "      <td>0.0</td>\n",
       "    </tr>\n",
       "    <tr>\n",
       "      <th>2</th>\n",
       "      <td>Brass Angle Deep - Plain, No.2</td>\n",
       "      <td>250.0</td>\n",
       "      <td>119.0</td>\n",
       "      <td>131.0</td>\n",
       "      <td>52.4</td>\n",
       "    </tr>\n",
       "    <tr>\n",
       "      <th>3</th>\n",
       "      <td>Cereal Flip Lid Container/Storage Jar - Assort...</td>\n",
       "      <td>176.0</td>\n",
       "      <td>149.0</td>\n",
       "      <td>27.0</td>\n",
       "      <td>15.3</td>\n",
       "    </tr>\n",
       "    <tr>\n",
       "      <th>4</th>\n",
       "      <td>Creme Soft Soap - For Hands &amp; Body</td>\n",
       "      <td>162.0</td>\n",
       "      <td>162.0</td>\n",
       "      <td>0.0</td>\n",
       "      <td>0.0</td>\n",
       "    </tr>\n",
       "    <tr>\n",
       "      <th>...</th>\n",
       "      <td>...</td>\n",
       "      <td>...</td>\n",
       "      <td>...</td>\n",
       "      <td>...</td>\n",
       "      <td>...</td>\n",
       "    </tr>\n",
       "    <tr>\n",
       "      <th>27550</th>\n",
       "      <td>Wottagirl! Perfume Spray - Heaven, Classic</td>\n",
       "      <td>249.0</td>\n",
       "      <td>199.2</td>\n",
       "      <td>49.8</td>\n",
       "      <td>20.0</td>\n",
       "    </tr>\n",
       "    <tr>\n",
       "      <th>27551</th>\n",
       "      <td>Rosemary</td>\n",
       "      <td>75.0</td>\n",
       "      <td>67.5</td>\n",
       "      <td>7.5</td>\n",
       "      <td>10.0</td>\n",
       "    </tr>\n",
       "    <tr>\n",
       "      <th>27552</th>\n",
       "      <td>Peri-Peri Sweet Potato Chips</td>\n",
       "      <td>200.0</td>\n",
       "      <td>200.0</td>\n",
       "      <td>0.0</td>\n",
       "      <td>0.0</td>\n",
       "    </tr>\n",
       "    <tr>\n",
       "      <th>27553</th>\n",
       "      <td>Green Tea - Pure Original</td>\n",
       "      <td>495.0</td>\n",
       "      <td>396.0</td>\n",
       "      <td>99.0</td>\n",
       "      <td>20.0</td>\n",
       "    </tr>\n",
       "    <tr>\n",
       "      <th>27554</th>\n",
       "      <td>United Dreams Go Far Deodorant</td>\n",
       "      <td>390.0</td>\n",
       "      <td>214.5</td>\n",
       "      <td>175.5</td>\n",
       "      <td>45.0</td>\n",
       "    </tr>\n",
       "  </tbody>\n",
       "</table>\n",
       "<p>27555 rows × 5 columns</p>\n",
       "</div>"
      ],
      "text/plain": [
       "                                                 product  market_price  \\\n",
       "0                 Garlic Oil - Vegetarian Capsule 500 mg         220.0   \n",
       "1                                  Water Bottle - Orange         180.0   \n",
       "2                         Brass Angle Deep - Plain, No.2         250.0   \n",
       "3      Cereal Flip Lid Container/Storage Jar - Assort...         176.0   \n",
       "4                     Creme Soft Soap - For Hands & Body         162.0   \n",
       "...                                                  ...           ...   \n",
       "27550         Wottagirl! Perfume Spray - Heaven, Classic         249.0   \n",
       "27551                                           Rosemary          75.0   \n",
       "27552                       Peri-Peri Sweet Potato Chips         200.0   \n",
       "27553                          Green Tea - Pure Original         495.0   \n",
       "27554                     United Dreams Go Far Deodorant         390.0   \n",
       "\n",
       "       sale_price  discount  discount in %  \n",
       "0           220.0       0.0            0.0  \n",
       "1           180.0       0.0            0.0  \n",
       "2           119.0     131.0           52.4  \n",
       "3           149.0      27.0           15.3  \n",
       "4           162.0       0.0            0.0  \n",
       "...           ...       ...            ...  \n",
       "27550       199.2      49.8           20.0  \n",
       "27551        67.5       7.5           10.0  \n",
       "27552       200.0       0.0            0.0  \n",
       "27553       396.0      99.0           20.0  \n",
       "27554       214.5     175.5           45.0  \n",
       "\n",
       "[27555 rows x 5 columns]"
      ]
     },
     "execution_count": 222,
     "metadata": {},
     "output_type": "execute_result"
    }
   ],
   "source": [
    "t_dis.round(1)"
   ]
  },
  {
   "cell_type": "code",
   "execution_count": 4,
   "id": "ace81fb7",
   "metadata": {},
   "outputs": [
    {
     "data": {
      "text/plain": [
       "index              0\n",
       "product            1\n",
       "category           0\n",
       "sub_category       0\n",
       "brand              1\n",
       "sale_price         6\n",
       "market_price       0\n",
       "type               0\n",
       "rating          8636\n",
       "description      115\n",
       "dtype: int64"
      ]
     },
     "execution_count": 4,
     "metadata": {},
     "output_type": "execute_result"
    }
   ],
   "source": [
    "#Finding out the Missing Values from the Dataset\n",
    "\n",
    "df.isnull().sum()\n",
    "\n",
    "# rating has the highest null values, that means after purchasing the product 31.34% customers did'nt give any feedback or review"
   ]
  },
  {
   "cell_type": "code",
   "execution_count": 224,
   "id": "50c197b5",
   "metadata": {},
   "outputs": [],
   "source": [
    "# description has 115 null values, it may become difficult for customer to choose the right product without proper discription, ultimately results in fall down of revenue "
   ]
  },
  {
   "cell_type": "code",
   "execution_count": 5,
   "id": "c118937c",
   "metadata": {},
   "outputs": [],
   "source": [
    "# Filling Missing Values:\n",
    "df['product']=df['product'].fillna('unknown')\n",
    "df.brand=df.brand.fillna('unknown')\n",
    "df.sale_price=df.sale_price.fillna(df.market_price)\n",
    "df.rating=df.rating.fillna(df.rating.mean())\n",
    "df.description=df.description.fillna('unknown')"
   ]
  },
  {
   "cell_type": "code",
   "execution_count": 6,
   "id": "129b9a65",
   "metadata": {},
   "outputs": [
    {
     "data": {
      "text/plain": [
       "<Axes: xlabel='sale_price'>"
      ]
     },
     "execution_count": 6,
     "metadata": {},
     "output_type": "execute_result"
    },
    {
     "data": {
      "image/png": "[encoded data removed]",
      "text/plain": [
       "<Figure size 640x480 with 1 Axes>"
      ]
     },
     "metadata": {},
     "output_type": "display_data"
    }
   ],
   "source": [
    "# Finding Outliers in sale price:\n",
    "sns.boxplot(x=df.sale_price)"
   ]
  },
  {
   "cell_type": "code",
   "execution_count": 7,
   "id": "2e855cbc",
   "metadata": {},
   "outputs": [
    {
     "data": {
      "text/html": [
       "<div>\n",
       "<style scoped>\n",
       "    .dataframe tbody tr th:only-of-type {\n",
       "        vertical-align: middle;\n",
       "    }\n",
       "\n",
       "    .dataframe tbody tr th {\n",
       "        vertical-align: top;\n",
       "    }\n",
       "\n",
       "    .dataframe thead th {\n",
       "        text-align: right;\n",
       "    }\n",
       "</style>\n",
       "<table border=\"1\" class=\"dataframe\">\n",
       "  <thead>\n",
       "    <tr style=\"text-align: right;\">\n",
       "      <th></th>\n",
       "      <th>index</th>\n",
       "      <th>product</th>\n",
       "      <th>category</th>\n",
       "      <th>sub_category</th>\n",
       "      <th>brand</th>\n",
       "      <th>sale_price</th>\n",
       "      <th>market_price</th>\n",
       "      <th>type</th>\n",
       "      <th>rating</th>\n",
       "      <th>description</th>\n",
       "    </tr>\n",
       "  </thead>\n",
       "  <tbody>\n",
       "    <tr>\n",
       "      <th>248</th>\n",
       "      <td>249</td>\n",
       "      <td>4mm Aluminium Induction Base Chapati Roti Tawa...</td>\n",
       "      <td>Kitchen, Garden &amp; Pets</td>\n",
       "      <td>Cookware &amp; Non Stick</td>\n",
       "      <td>HAZEL</td>\n",
       "      <td>111649.0</td>\n",
       "      <td>1289.0</td>\n",
       "      <td>Tawa &amp; Sauce Pan</td>\n",
       "      <td>3.943295</td>\n",
       "      <td>Hazel Aluminium Tawa has an ergonomic design f...</td>\n",
       "    </tr>\n",
       "    <tr>\n",
       "      <th>436</th>\n",
       "      <td>437</td>\n",
       "      <td>Balloon - Polka Dot, 12 Inch</td>\n",
       "      <td>Cleaning &amp; Household</td>\n",
       "      <td>Party &amp; Festive Needs</td>\n",
       "      <td>B Vishal</td>\n",
       "      <td>88899.0</td>\n",
       "      <td>129.0</td>\n",
       "      <td>Caps, Balloons &amp; Candles</td>\n",
       "      <td>3.900000</td>\n",
       "      <td>Whether it is a party in the office, a Christm...</td>\n",
       "    </tr>\n",
       "    <tr>\n",
       "      <th>1249</th>\n",
       "      <td>1250</td>\n",
       "      <td>Beard Kit</td>\n",
       "      <td>Beauty &amp; Hygiene</td>\n",
       "      <td>Men's Grooming</td>\n",
       "      <td>Uncle Tony</td>\n",
       "      <td>112475.0</td>\n",
       "      <td>3300.0</td>\n",
       "      <td>Combos &amp; Gift Sets</td>\n",
       "      <td>3.943295</td>\n",
       "      <td>The combination of a beard oil, a beard wash, ...</td>\n",
       "    </tr>\n",
       "  </tbody>\n",
       "</table>\n",
       "</div>"
      ],
      "text/plain": [
       "      index                                            product  \\\n",
       "248     249  4mm Aluminium Induction Base Chapati Roti Tawa...   \n",
       "436     437                       Balloon - Polka Dot, 12 Inch   \n",
       "1249   1250                                          Beard Kit   \n",
       "\n",
       "                    category           sub_category       brand  sale_price  \\\n",
       "248   Kitchen, Garden & Pets   Cookware & Non Stick       HAZEL    111649.0   \n",
       "436     Cleaning & Household  Party & Festive Needs    B Vishal     88899.0   \n",
       "1249        Beauty & Hygiene         Men's Grooming  Uncle Tony    112475.0   \n",
       "\n",
       "      market_price                      type    rating  \\\n",
       "248         1289.0          Tawa & Sauce Pan  3.943295   \n",
       "436          129.0  Caps, Balloons & Candles  3.900000   \n",
       "1249        3300.0        Combos & Gift Sets  3.943295   \n",
       "\n",
       "                                            description  \n",
       "248   Hazel Aluminium Tawa has an ergonomic design f...  \n",
       "436   Whether it is a party in the office, a Christm...  \n",
       "1249  The combination of a beard oil, a beard wash, ...  "
      ]
     },
     "execution_count": 7,
     "metadata": {},
     "output_type": "execute_result"
    }
   ],
   "source": [
    "#Checking outliers in sale_price\n",
    "df[df.sale_price>80000]"
   ]
  },
  {
   "cell_type": "code",
   "execution_count": 8,
   "id": "b8eb3dd8",
   "metadata": {},
   "outputs": [],
   "source": [
    "# There are lot of difference between market price and sale price because of some error, so we replace those outliers with its market price.\n",
    "\n",
    "#Using np.where to replace outliers\n",
    "df.sale_price=np.where(df.sale_price==111649.0,df.market_price,df.sale_price)"
   ]
  },
  {
   "cell_type": "code",
   "execution_count": 9,
   "id": "99bf5215",
   "metadata": {},
   "outputs": [],
   "source": [
    "df.sale_price=np.where(df.sale_price>80000,df.market_price,df.sale_price)"
   ]
  },
  {
   "cell_type": "code",
   "execution_count": 10,
   "id": "34363e1e",
   "metadata": {},
   "outputs": [
    {
     "data": {
      "text/html": [
       "<div>\n",
       "<style scoped>\n",
       "    .dataframe tbody tr th:only-of-type {\n",
       "        vertical-align: middle;\n",
       "    }\n",
       "\n",
       "    .dataframe tbody tr th {\n",
       "        vertical-align: top;\n",
       "    }\n",
       "\n",
       "    .dataframe thead th {\n",
       "        text-align: right;\n",
       "    }\n",
       "</style>\n",
       "<table border=\"1\" class=\"dataframe\">\n",
       "  <thead>\n",
       "    <tr style=\"text-align: right;\">\n",
       "      <th></th>\n",
       "      <th>index</th>\n",
       "      <th>product</th>\n",
       "      <th>category</th>\n",
       "      <th>sub_category</th>\n",
       "      <th>brand</th>\n",
       "      <th>sale_price</th>\n",
       "      <th>market_price</th>\n",
       "      <th>type</th>\n",
       "      <th>rating</th>\n",
       "      <th>description</th>\n",
       "    </tr>\n",
       "  </thead>\n",
       "  <tbody>\n",
       "  </tbody>\n",
       "</table>\n",
       "</div>"
      ],
      "text/plain": [
       "Empty DataFrame\n",
       "Columns: [index, product, category, sub_category, brand, sale_price, market_price, type, rating, description]\n",
       "Index: []"
      ]
     },
     "execution_count": 10,
     "metadata": {},
     "output_type": "execute_result"
    }
   ],
   "source": [
    "#Checking outliers in sale_price after replacing\n",
    "df[df.sale_price>80000]"
   ]
  },
  {
   "cell_type": "code",
   "execution_count": 11,
   "id": "911fa639",
   "metadata": {},
   "outputs": [
    {
     "data": {
      "text/html": [
       "<div>\n",
       "<style scoped>\n",
       "    .dataframe tbody tr th:only-of-type {\n",
       "        vertical-align: middle;\n",
       "    }\n",
       "\n",
       "    .dataframe tbody tr th {\n",
       "        vertical-align: top;\n",
       "    }\n",
       "\n",
       "    .dataframe thead th {\n",
       "        text-align: right;\n",
       "    }\n",
       "</style>\n",
       "<table border=\"1\" class=\"dataframe\">\n",
       "  <thead>\n",
       "    <tr style=\"text-align: right;\">\n",
       "      <th></th>\n",
       "      <th>index</th>\n",
       "      <th>product</th>\n",
       "      <th>category</th>\n",
       "      <th>sub_category</th>\n",
       "      <th>brand</th>\n",
       "      <th>sale_price</th>\n",
       "      <th>market_price</th>\n",
       "      <th>type</th>\n",
       "      <th>rating</th>\n",
       "      <th>description</th>\n",
       "    </tr>\n",
       "  </thead>\n",
       "  <tbody>\n",
       "    <tr>\n",
       "      <th>288</th>\n",
       "      <td>289</td>\n",
       "      <td>Arrabbiata Tomato Pasta Sauce With Chilli</td>\n",
       "      <td>Gourmet &amp; World Food</td>\n",
       "      <td>Sauces, Spreads &amp; Dips</td>\n",
       "      <td>Montanini</td>\n",
       "      <td>22325.0</td>\n",
       "      <td>325.0</td>\n",
       "      <td>Mustard &amp; Cheese Sauces</td>\n",
       "      <td>5.000000</td>\n",
       "      <td>unknown</td>\n",
       "    </tr>\n",
       "    <tr>\n",
       "      <th>21761</th>\n",
       "      <td>21762</td>\n",
       "      <td>Pet Food - N&amp;D Team Breeder Puppy Top Farmina</td>\n",
       "      <td>Kitchen, Garden &amp; Pets</td>\n",
       "      <td>Pet Food &amp; Accessories</td>\n",
       "      <td>Farmina</td>\n",
       "      <td>10090.0</td>\n",
       "      <td>10090.0</td>\n",
       "      <td>Pet Meals &amp; Treats</td>\n",
       "      <td>3.943295</td>\n",
       "      <td>Dog Food Adult Health Nutritional Dog Food.</td>\n",
       "    </tr>\n",
       "    <tr>\n",
       "      <th>25301</th>\n",
       "      <td>25302</td>\n",
       "      <td>Bravura Clipper</td>\n",
       "      <td>Kitchen, Garden &amp; Pets</td>\n",
       "      <td>Pet Food &amp; Accessories</td>\n",
       "      <td>Wahl</td>\n",
       "      <td>12500.0</td>\n",
       "      <td>12500.0</td>\n",
       "      <td>Pet Cleaning &amp; Grooming</td>\n",
       "      <td>3.943295</td>\n",
       "      <td>The bravura clipper is a must-have clipper for...</td>\n",
       "    </tr>\n",
       "  </tbody>\n",
       "</table>\n",
       "</div>"
      ],
      "text/plain": [
       "       index                                        product  \\\n",
       "288      289      Arrabbiata Tomato Pasta Sauce With Chilli   \n",
       "21761  21762  Pet Food - N&D Team Breeder Puppy Top Farmina   \n",
       "25301  25302                                Bravura Clipper   \n",
       "\n",
       "                     category            sub_category      brand  sale_price  \\\n",
       "288      Gourmet & World Food  Sauces, Spreads & Dips  Montanini     22325.0   \n",
       "21761  Kitchen, Garden & Pets  Pet Food & Accessories    Farmina     10090.0   \n",
       "25301  Kitchen, Garden & Pets  Pet Food & Accessories       Wahl     12500.0   \n",
       "\n",
       "       market_price                     type    rating  \\\n",
       "288           325.0  Mustard & Cheese Sauces  5.000000   \n",
       "21761       10090.0       Pet Meals & Treats  3.943295   \n",
       "25301       12500.0  Pet Cleaning & Grooming  3.943295   \n",
       "\n",
       "                                             description  \n",
       "288                                              unknown  \n",
       "21761        Dog Food Adult Health Nutritional Dog Food.  \n",
       "25301  The bravura clipper is a must-have clipper for...  "
      ]
     },
     "execution_count": 11,
     "metadata": {},
     "output_type": "execute_result"
    }
   ],
   "source": [
    "df[df.sale_price>10000]"
   ]
  },
  {
   "cell_type": "code",
   "execution_count": 12,
   "id": "e0050515",
   "metadata": {},
   "outputs": [],
   "source": [
    "df.iloc[288,5]=325.0"
   ]
  },
  {
   "cell_type": "code",
   "execution_count": null,
   "id": "a23cb904",
   "metadata": {},
   "outputs": [],
   "source": []
  },
  {
   "cell_type": "code",
   "execution_count": 13,
   "id": "9f692ec5",
   "metadata": {},
   "outputs": [
    {
     "data": {
      "text/plain": [
       "<Axes: xlabel='sale_price'>"
      ]
     },
     "execution_count": 13,
     "metadata": {},
     "output_type": "execute_result"
    },
    {
     "data": {
      "image/png": "[encoded data removed]",
      "text/plain": [
       "<Figure size 640x480 with 1 Axes>"
      ]
     },
     "metadata": {},
     "output_type": "display_data"
    }
   ],
   "source": [
    "#Checking Outliers in market value\n",
    "sns.boxplot(x=df.sale_price)"
   ]
  },
  {
   "cell_type": "code",
   "execution_count": 14,
   "id": "49b267fb",
   "metadata": {},
   "outputs": [
    {
     "data": {
      "text/html": [
       "<div>\n",
       "<style scoped>\n",
       "    .dataframe tbody tr th:only-of-type {\n",
       "        vertical-align: middle;\n",
       "    }\n",
       "\n",
       "    .dataframe tbody tr th {\n",
       "        vertical-align: top;\n",
       "    }\n",
       "\n",
       "    .dataframe thead th {\n",
       "        text-align: right;\n",
       "    }\n",
       "</style>\n",
       "<table border=\"1\" class=\"dataframe\">\n",
       "  <thead>\n",
       "    <tr style=\"text-align: right;\">\n",
       "      <th></th>\n",
       "      <th>index</th>\n",
       "      <th>product</th>\n",
       "      <th>category</th>\n",
       "      <th>sub_category</th>\n",
       "      <th>brand</th>\n",
       "      <th>sale_price</th>\n",
       "      <th>market_price</th>\n",
       "      <th>type</th>\n",
       "      <th>rating</th>\n",
       "      <th>description</th>\n",
       "    </tr>\n",
       "  </thead>\n",
       "  <tbody>\n",
       "    <tr>\n",
       "      <th>201</th>\n",
       "      <td>202</td>\n",
       "      <td>1001 Nights Concentrated Oriental Perfume Free...</td>\n",
       "      <td>Beauty &amp; Hygiene</td>\n",
       "      <td>Fragrances &amp; Deos</td>\n",
       "      <td>Ajmal</td>\n",
       "      <td>4900.0</td>\n",
       "      <td>5000.0</td>\n",
       "      <td>Attar</td>\n",
       "      <td>3.943295</td>\n",
       "      <td>Uniting deep-rooted traditions with modern tim...</td>\n",
       "    </tr>\n",
       "    <tr>\n",
       "      <th>675</th>\n",
       "      <td>676</td>\n",
       "      <td>Focus - Super Dog Food, For Adults</td>\n",
       "      <td>Kitchen, Garden &amp; Pets</td>\n",
       "      <td>Pet Food &amp; Accessories</td>\n",
       "      <td>Drools</td>\n",
       "      <td>3612.5</td>\n",
       "      <td>4250.0</td>\n",
       "      <td>Pet Meals &amp; Treats</td>\n",
       "      <td>3.300000</td>\n",
       "      <td>Drools Focus Super Premium Adult dog food is f...</td>\n",
       "    </tr>\n",
       "    <tr>\n",
       "      <th>935</th>\n",
       "      <td>936</td>\n",
       "      <td>Stainless Steel  Induction Compatible Pressure...</td>\n",
       "      <td>Kitchen, Garden &amp; Pets</td>\n",
       "      <td>Cookware &amp; Non Stick</td>\n",
       "      <td>Hawkins</td>\n",
       "      <td>5320.0</td>\n",
       "      <td>5600.0</td>\n",
       "      <td>Pressure Cookers</td>\n",
       "      <td>3.943295</td>\n",
       "      <td>The body and lid of this Stainless Steel Press...</td>\n",
       "    </tr>\n",
       "    <tr>\n",
       "      <th>1056</th>\n",
       "      <td>1057</td>\n",
       "      <td>Gas Stove-3 Burner Royale Plus Schott Glass, B...</td>\n",
       "      <td>Kitchen, Garden &amp; Pets</td>\n",
       "      <td>Cookware &amp; Non Stick</td>\n",
       "      <td>Prestige</td>\n",
       "      <td>6999.0</td>\n",
       "      <td>10695.0</td>\n",
       "      <td>Gas Stove</td>\n",
       "      <td>3.943295</td>\n",
       "      <td>Prestige Royale Plus Gas Stove. Add a Touch of...</td>\n",
       "    </tr>\n",
       "    <tr>\n",
       "      <th>1071</th>\n",
       "      <td>1072</td>\n",
       "      <td>100% Spanish Olive Oil</td>\n",
       "      <td>Gourmet &amp; World Food</td>\n",
       "      <td>Oils &amp; Vinegar</td>\n",
       "      <td>Sol</td>\n",
       "      <td>4020.0</td>\n",
       "      <td>5025.0</td>\n",
       "      <td>Pure, Pomace Olive Oil</td>\n",
       "      <td>3.943295</td>\n",
       "      <td>Spain’s geography and climate with extensive m...</td>\n",
       "    </tr>\n",
       "    <tr>\n",
       "      <th>...</th>\n",
       "      <td>...</td>\n",
       "      <td>...</td>\n",
       "      <td>...</td>\n",
       "      <td>...</td>\n",
       "      <td>...</td>\n",
       "      <td>...</td>\n",
       "      <td>...</td>\n",
       "      <td>...</td>\n",
       "      <td>...</td>\n",
       "      <td>...</td>\n",
       "    </tr>\n",
       "    <tr>\n",
       "      <th>25819</th>\n",
       "      <td>25820</td>\n",
       "      <td>Perfume - Pure Scent Spray</td>\n",
       "      <td>Beauty &amp; Hygiene</td>\n",
       "      <td>Fragrances &amp; Deos</td>\n",
       "      <td>Dkny</td>\n",
       "      <td>5550.0</td>\n",
       "      <td>5550.0</td>\n",
       "      <td>Perfume</td>\n",
       "      <td>3.943295</td>\n",
       "      <td>• Feel confident and smell amazing by wearing ...</td>\n",
       "    </tr>\n",
       "    <tr>\n",
       "      <th>26659</th>\n",
       "      <td>26660</td>\n",
       "      <td>Infinite Rush Eau De Toilette</td>\n",
       "      <td>Beauty &amp; Hygiene</td>\n",
       "      <td>Fragrances &amp; Deos</td>\n",
       "      <td>Bentley</td>\n",
       "      <td>4905.0</td>\n",
       "      <td>5450.0</td>\n",
       "      <td>Eau De Toilette</td>\n",
       "      <td>3.943295</td>\n",
       "      <td>Bentley Infinite Rush Eau de toilette's modern...</td>\n",
       "    </tr>\n",
       "    <tr>\n",
       "      <th>26933</th>\n",
       "      <td>26934</td>\n",
       "      <td>Starter Dry Dog Food - Ultra Premium</td>\n",
       "      <td>Kitchen, Garden &amp; Pets</td>\n",
       "      <td>Pet Food &amp; Accessories</td>\n",
       "      <td>Canine Creek</td>\n",
       "      <td>4050.0</td>\n",
       "      <td>6750.0</td>\n",
       "      <td>Pet Meals &amp; Treats</td>\n",
       "      <td>3.000000</td>\n",
       "      <td>Canine Creek Ultra Premium Starter Dog Food is...</td>\n",
       "    </tr>\n",
       "    <tr>\n",
       "      <th>27127</th>\n",
       "      <td>27128</td>\n",
       "      <td>Zaire Steel Iron Board/ Iron Table - Indian Ci...</td>\n",
       "      <td>Kitchen, Garden &amp; Pets</td>\n",
       "      <td>Storage &amp; Accessories</td>\n",
       "      <td>Savera</td>\n",
       "      <td>2399.0</td>\n",
       "      <td>4120.0</td>\n",
       "      <td>Cloth Dryer &amp; Iron Table</td>\n",
       "      <td>3.000000</td>\n",
       "      <td>Ironing clothes is a necessity and without a p...</td>\n",
       "    </tr>\n",
       "    <tr>\n",
       "      <th>27538</th>\n",
       "      <td>27539</td>\n",
       "      <td>Quista Pro Advanced Whey Protein Formula forti...</td>\n",
       "      <td>Beauty &amp; Hygiene</td>\n",
       "      <td>Health &amp; Medicine</td>\n",
       "      <td>Himalaya</td>\n",
       "      <td>4500.0</td>\n",
       "      <td>4500.0</td>\n",
       "      <td>Supplements &amp; Proteins</td>\n",
       "      <td>4.000000</td>\n",
       "      <td>Quista Pro is a whey protein blend that helps ...</td>\n",
       "    </tr>\n",
       "  </tbody>\n",
       "</table>\n",
       "<p>112 rows × 10 columns</p>\n",
       "</div>"
      ],
      "text/plain": [
       "       index                                            product  \\\n",
       "201      202  1001 Nights Concentrated Oriental Perfume Free...   \n",
       "675      676                 Focus - Super Dog Food, For Adults   \n",
       "935      936  Stainless Steel  Induction Compatible Pressure...   \n",
       "1056    1057  Gas Stove-3 Burner Royale Plus Schott Glass, B...   \n",
       "1071    1072                             100% Spanish Olive Oil   \n",
       "...      ...                                                ...   \n",
       "25819  25820                         Perfume - Pure Scent Spray   \n",
       "26659  26660                      Infinite Rush Eau De Toilette   \n",
       "26933  26934               Starter Dry Dog Food - Ultra Premium   \n",
       "27127  27128  Zaire Steel Iron Board/ Iron Table - Indian Ci...   \n",
       "27538  27539  Quista Pro Advanced Whey Protein Formula forti...   \n",
       "\n",
       "                     category            sub_category         brand  \\\n",
       "201          Beauty & Hygiene       Fragrances & Deos         Ajmal   \n",
       "675    Kitchen, Garden & Pets  Pet Food & Accessories        Drools   \n",
       "935    Kitchen, Garden & Pets    Cookware & Non Stick       Hawkins   \n",
       "1056   Kitchen, Garden & Pets    Cookware & Non Stick      Prestige   \n",
       "1071     Gourmet & World Food          Oils & Vinegar           Sol   \n",
       "...                       ...                     ...           ...   \n",
       "25819        Beauty & Hygiene       Fragrances & Deos          Dkny   \n",
       "26659        Beauty & Hygiene       Fragrances & Deos       Bentley   \n",
       "26933  Kitchen, Garden & Pets  Pet Food & Accessories  Canine Creek   \n",
       "27127  Kitchen, Garden & Pets   Storage & Accessories        Savera   \n",
       "27538        Beauty & Hygiene       Health & Medicine      Himalaya   \n",
       "\n",
       "       sale_price  market_price                      type    rating  \\\n",
       "201        4900.0        5000.0                     Attar  3.943295   \n",
       "675        3612.5        4250.0        Pet Meals & Treats  3.300000   \n",
       "935        5320.0        5600.0          Pressure Cookers  3.943295   \n",
       "1056       6999.0       10695.0                 Gas Stove  3.943295   \n",
       "1071       4020.0        5025.0    Pure, Pomace Olive Oil  3.943295   \n",
       "...           ...           ...                       ...       ...   \n",
       "25819      5550.0        5550.0                   Perfume  3.943295   \n",
       "26659      4905.0        5450.0           Eau De Toilette  3.943295   \n",
       "26933      4050.0        6750.0        Pet Meals & Treats  3.000000   \n",
       "27127      2399.0        4120.0  Cloth Dryer & Iron Table  3.000000   \n",
       "27538      4500.0        4500.0    Supplements & Proteins  4.000000   \n",
       "\n",
       "                                             description  \n",
       "201    Uniting deep-rooted traditions with modern tim...  \n",
       "675    Drools Focus Super Premium Adult dog food is f...  \n",
       "935    The body and lid of this Stainless Steel Press...  \n",
       "1056   Prestige Royale Plus Gas Stove. Add a Touch of...  \n",
       "1071   Spain’s geography and climate with extensive m...  \n",
       "...                                                  ...  \n",
       "25819  • Feel confident and smell amazing by wearing ...  \n",
       "26659  Bentley Infinite Rush Eau de toilette's modern...  \n",
       "26933  Canine Creek Ultra Premium Starter Dog Food is...  \n",
       "27127  Ironing clothes is a necessity and without a p...  \n",
       "27538  Quista Pro is a whey protein blend that helps ...  \n",
       "\n",
       "[112 rows x 10 columns]"
      ]
     },
     "execution_count": 14,
     "metadata": {},
     "output_type": "execute_result"
    }
   ],
   "source": [
    "df[df.market_price>4000]\n",
    "\n",
    "# Market price is looking good, there is no outliers"
   ]
  },
  {
   "cell_type": "code",
   "execution_count": null,
   "id": "03730bc5",
   "metadata": {},
   "outputs": [],
   "source": []
  },
  {
   "cell_type": "markdown",
   "id": "d3279ad2",
   "metadata": {},
   "source": [
    "# Visualization"
   ]
  },
  {
   "cell_type": "markdown",
   "id": "d2172383",
   "metadata": {},
   "source": [
    "# 1. Revenue Analysis-"
   ]
  },
  {
   "cell_type": "markdown",
   "id": "2d753035",
   "metadata": {},
   "source": [
    "# 1.1 Top 10 brands generated highest revenue based on the sale_price"
   ]
  },
  {
   "cell_type": "code",
   "execution_count": 15,
   "id": "c805676a",
   "metadata": {},
   "outputs": [
    {
     "data": {
      "text/plain": [
       "Text(0.5, 0, 'total revenue')"
      ]
     },
     "execution_count": 15,
     "metadata": {},
     "output_type": "execute_result"
    },
    {
     "data": {
      "image/png": "[encoded data removed]",
      "text/plain": [
       "<Figure size 640x480 with 1 Axes>"
      ]
     },
     "metadata": {},
     "output_type": "display_data"
    }
   ],
   "source": [
    "br=df.groupby('brand')['sale_price'].sum().sort_values(ascending=False).head(10)\n",
    "sns.barplot(y=br.index,x=br)\n",
    "plt.xlabel('total revenue')"
   ]
  },
  {
   "cell_type": "code",
   "execution_count": 16,
   "id": "e7bbb04e",
   "metadata": {},
   "outputs": [],
   "source": [
    "# Top brand(Prestige) revenue vary across different categories"
   ]
  },
  {
   "cell_type": "code",
   "execution_count": 17,
   "id": "86437bd2",
   "metadata": {},
   "outputs": [
    {
     "data": {
      "text/plain": [
       "<Axes: xlabel='sale_price', ylabel='category'>"
      ]
     },
     "execution_count": 17,
     "metadata": {},
     "output_type": "execute_result"
    },
    {
     "data": {
      "image/png": "[encoded data removed]",
      "text/plain": [
       "<Figure size 640x480 with 1 Axes>"
      ]
     },
     "metadata": {},
     "output_type": "display_data"
    }
   ],
   "source": [
    "a=df[df.brand=='Prestige']\n",
    "b=a.groupby('category')['sale_price'].sum()\n",
    "sns.barplot(x=b,y=b.index)"
   ]
  },
  {
   "cell_type": "markdown",
   "id": "8d7254cc",
   "metadata": {},
   "source": [
    "# 1.2 Checking correlation Between sale_price & Market_price"
   ]
  },
  {
   "cell_type": "code",
   "execution_count": 18,
   "id": "4fe10a61",
   "metadata": {},
   "outputs": [
    {
     "data": {
      "text/plain": [
       "0.9651324264776201"
      ]
     },
     "execution_count": 18,
     "metadata": {},
     "output_type": "execute_result"
    }
   ],
   "source": [
    "df.sale_price.corr(df.market_price)\n",
    "# correlation is highly positive, means if market_price increase sale_price will also increase"
   ]
  },
  {
   "cell_type": "markdown",
   "id": "a54680e6",
   "metadata": {},
   "source": [
    "# 2. Product Performance Analysis-"
   ]
  },
  {
   "cell_type": "markdown",
   "id": "ab31bb2f",
   "metadata": {},
   "source": [
    "# 2.1 Product have the highest sales"
   ]
  },
  {
   "cell_type": "code",
   "execution_count": 19,
   "id": "311235a9",
   "metadata": {},
   "outputs": [
    {
     "data": {
      "text/plain": [
       "<Axes: xlabel='sale_price', ylabel='product'>"
      ]
     },
     "execution_count": 19,
     "metadata": {},
     "output_type": "execute_result"
    },
    {
     "data": {
      "image/png": "[encoded data removed]",
      "text/plain": [
       "<Figure size 640x480 with 1 Axes>"
      ]
     },
     "metadata": {},
     "output_type": "display_data"
    }
   ],
   "source": [
    "a=df.groupby('product')['sale_price'].sum().sort_values(ascending=False).head()\n",
    "\n",
    "sns.barplot(x=a,y=a.index)"
   ]
  },
  {
   "cell_type": "markdown",
   "id": "b475f24c",
   "metadata": {},
   "source": [
    "# 2.2 Product have the lowest sales"
   ]
  },
  {
   "cell_type": "code",
   "execution_count": 20,
   "id": "27be3204",
   "metadata": {},
   "outputs": [
    {
     "data": {
      "text/plain": [
       "<Axes: xlabel='sale_price', ylabel='product'>"
      ]
     },
     "execution_count": 20,
     "metadata": {},
     "output_type": "execute_result"
    },
    {
     "data": {
      "image/png": "[encoded data removed]",
      "text/plain": [
       "<Figure size 640x480 with 1 Axes>"
      ]
     },
     "metadata": {},
     "output_type": "display_data"
    }
   ],
   "source": [
    "\n",
    "a=df.groupby('product')['sale_price'].sum().sort_values().head()\n",
    "\n",
    "sns.barplot(x=a,y=a.index)"
   ]
  },
  {
   "cell_type": "markdown",
   "id": "8740e0ed",
   "metadata": {},
   "source": [
    "# 2.3 Average rating of product in each category"
   ]
  },
  {
   "cell_type": "code",
   "execution_count": 21,
   "id": "2c2175b4",
   "metadata": {},
   "outputs": [
    {
     "data": {
      "text/plain": [
       "category\n",
       "Baby Care                   4.008747\n",
       "Bakery, Cakes & Dairy       3.918159\n",
       "Beauty & Hygiene            3.934400\n",
       "Beverages                   4.044709\n",
       "Cleaning & Household        3.953638\n",
       "Eggs, Meat & Fish           3.943295\n",
       "Foodgrains, Oil & Masala    4.040678\n",
       "Fruits & Vegetables         3.943295\n",
       "Gourmet & World Food        3.964238\n",
       "Kitchen, Garden & Pets      3.797238\n",
       "Snacks & Branded Foods      3.978153\n",
       "Name: rating, dtype: float64"
      ]
     },
     "execution_count": 21,
     "metadata": {},
     "output_type": "execute_result"
    }
   ],
   "source": [
    "\n",
    "df.groupby('category')['rating'].mean()"
   ]
  },
  {
   "cell_type": "markdown",
   "id": "57972065",
   "metadata": {},
   "source": [
    "# 2.4 correlation between pricing and product rating"
   ]
  },
  {
   "cell_type": "code",
   "execution_count": 22,
   "id": "4747d839",
   "metadata": {},
   "outputs": [
    {
     "data": {
      "text/plain": [
       "-0.05"
      ]
     },
     "execution_count": 22,
     "metadata": {},
     "output_type": "execute_result"
    }
   ],
   "source": [
    "df.sale_price.corr(df.rating).round(2)\n",
    "\n",
    "#there is no correlation, sale price is not affecting the rating of product."
   ]
  },
  {
   "cell_type": "markdown",
   "id": "e14487af",
   "metadata": {},
   "source": [
    "# 3. Market share analysis-"
   ]
  },
  {
   "cell_type": "markdown",
   "id": "02a1b5fc",
   "metadata": {},
   "source": [
    "# 3.1 Top 10 brand with highest market share"
   ]
  },
  {
   "cell_type": "code",
   "execution_count": 23,
   "id": "ab1e1495",
   "metadata": {},
   "outputs": [
    {
     "data": {
      "text/plain": [
       "([<matplotlib.patches.Wedge at 0x2eedbb9e010>,\n",
       "  <matplotlib.patches.Wedge at 0x2eedbe2c210>,\n",
       "  <matplotlib.patches.Wedge at 0x2eedbe2e010>,\n",
       "  <matplotlib.patches.Wedge at 0x2eedbe2fc90>,\n",
       "  <matplotlib.patches.Wedge at 0x2eedbe39890>,\n",
       "  <matplotlib.patches.Wedge at 0x2eedbe3b710>,\n",
       "  <matplotlib.patches.Wedge at 0x2eedbe45550>,\n",
       "  <matplotlib.patches.Wedge at 0x2eedbe47290>,\n",
       "  <matplotlib.patches.Wedge at 0x2eedbe39990>,\n",
       "  <matplotlib.patches.Wedge at 0x2eedbe52b10>],\n",
       " [Text(1.086573935938445, 0.17133908409710932, 'Dabur'),\n",
       "  Text(0.9794271035375727, 0.5007220275322438, 'Himalaya'),\n",
       "  Text(0.7680605096956529, 0.7874535246260912, 'INATUR '),\n",
       "  Text(0.4626191869654319, 0.9979897233195555, 'Amul'),\n",
       "  Text(0.07722956873726736, 1.0972855570509692, 'bb Combo'),\n",
       "  Text(-0.3396815560048853, 1.0462391889573341, 'Fresho Signature'),\n",
       "  Text(-0.7822125609895537, 0.7733973813184034, 'DP'),\n",
       "  Text(-1.0999293563321937, 0.012466397982020488, 'BB Home'),\n",
       "  Text(-0.5139955084440904, -0.9725269236886459, 'bb Royal'),\n",
       "  Text(0.8247593205602755, -0.7278544244208129, 'Fresho')],\n",
       " [Text(0.5926766923300608, 0.09345768223478688, '5.0%'),\n",
       "  Text(0.5342329655659487, 0.27312110592667843, '5.1%'),\n",
       "  Text(0.41894209619762884, 0.4295201043415042, '5.3%'),\n",
       "  Text(0.252337738344781, 0.5443580309015756, '5.5%'),\n",
       "  Text(0.042125219311236736, 0.5985193947550741, '6.1%'),\n",
       "  Text(-0.18528084872993744, 0.5706759212494549, '6.2%'),\n",
       "  Text(-0.42666139690339294, 0.42185311708276546, '9.0%'),\n",
       "  Text(-0.5999614670902874, 0.006799853444738448, '15.4%'),\n",
       "  Text(-0.2803611864240493, -0.5304692311028977, '19.4%'),\n",
       "  Text(0.44986872030560476, -0.3970115042295343, '23.0%')])"
      ]
     },
     "execution_count": 23,
     "metadata": {},
     "output_type": "execute_result"
    },
    {
     "data": {
      "image/png": "[encoded data removed]",
      "text/plain": [
       "<Figure size 640x480 with 1 Axes>"
      ]
     },
     "metadata": {},
     "output_type": "display_data"
    }
   ],
   "source": [
    "a=df.brand.value_counts().sort_values().tail(10)\n",
    "plt.pie(a,labels=a.index,autopct='%1.1f%%')\n",
    "\n",
    "#'fresho' has the highest market share followed by 'bb royal' and 'bb home'."
   ]
  },
  {
   "cell_type": "markdown",
   "id": "58119f32",
   "metadata": {},
   "source": [
    "# 3.2 Market share vary across different category"
   ]
  },
  {
   "cell_type": "code",
   "execution_count": 24,
   "id": "6b2d6d36",
   "metadata": {},
   "outputs": [
    {
     "data": {
      "text/plain": [
       "([<matplotlib.patches.Wedge at 0x2eedbe9e7d0>,\n",
       "  <matplotlib.patches.Wedge at 0x2eedbe92d90>,\n",
       "  <matplotlib.patches.Wedge at 0x2eedbea9ad0>,\n",
       "  <matplotlib.patches.Wedge at 0x2eedbeab8d0>,\n",
       "  <matplotlib.patches.Wedge at 0x2eedbeb5410>,\n",
       "  <matplotlib.patches.Wedge at 0x2eedbeb7210>,\n",
       "  <matplotlib.patches.Wedge at 0x2eedbec4f50>,\n",
       "  <matplotlib.patches.Wedge at 0x2eedbec6b10>,\n",
       "  <matplotlib.patches.Wedge at 0x2eedbeb5510>,\n",
       "  <matplotlib.patches.Wedge at 0x2eedc466250>,\n",
       "  <matplotlib.patches.Wedge at 0x2eedc467ed0>],\n",
       " [Text(0.686412946443183, 0.8595564361664615, 'Beauty & Hygiene'),\n",
       "  Text(-0.7560407033546974, 0.7990009104318558, 'Gourmet & World Food'),\n",
       "  Text(-1.0907381383065984, -0.14244407198425582, 'Kitchen, Garden & Pets'),\n",
       "  Text(-0.7186392805976396, -0.8328010472988775, 'Snacks & Branded Foods'),\n",
       "  Text(-0.09450740849762237, -1.0959326392343025, 'Foodgrains, Oil & Masala'),\n",
       "  Text(0.550434342400408, -0.9523770444032292, 'Cleaning & Household'),\n",
       "  Text(0.8817401476561055, -0.6576734083201095, 'Beverages'),\n",
       "  Text(0.9938471437577506, -0.4714529190116032, 'Bakery, Cakes & Dairy'),\n",
       "  Text(1.058259172742165, -0.3001458367311941, 'Baby Care'),\n",
       "  Text(1.0887231184691866, -0.1571049690835069, 'Fruits & Vegetables'),\n",
       "  Text(1.0991243287648869, -0.04388291144782172, 'Eggs, Meat & Fish')],\n",
       " [Text(0.3744070616962816, 0.46884896518170616, '28.6%'),\n",
       "  Text(-0.41238583819347124, 0.43581867841737587, '17.0%'),\n",
       "  Text(-0.5949480754399628, -0.0776967665368668, '13.0%'),\n",
       "  Text(-0.391985062144167, -0.45425511670847857, '10.2%'),\n",
       "  Text(-0.05154949554415765, -0.5977814395823468, '9.7%'),\n",
       "  Text(0.30023691403658614, -0.5194783878563067, '9.7%'),\n",
       "  Text(0.4809491714487848, -0.35873094999278693, '3.2%'),\n",
       "  Text(0.542098442049682, -0.25715613764269263, '3.1%'),\n",
       "  Text(0.5772322760411809, -0.1637159109442877, '2.2%'),\n",
       "  Text(0.5938489737104654, -0.08569361950009466, '2.0%'),\n",
       "  Text(0.5995223611444837, -0.02393613351699366, '1.3%')])"
      ]
     },
     "execution_count": 24,
     "metadata": {},
     "output_type": "execute_result"
    },
    {
     "data": {
      "image/png": "[encoded data removed]",
      "text/plain": [
       "<Figure size 640x480 with 1 Axes>"
      ]
     },
     "metadata": {},
     "output_type": "display_data"
    }
   ],
   "source": [
    "a=df.category.value_counts()\n",
    "plt.pie(a,labels=a.index,autopct='%1.1f%%')\n",
    "#Category 'beauty and hygine' has the highest market share"
   ]
  },
  {
   "cell_type": "code",
   "execution_count": 25,
   "id": "274882bb",
   "metadata": {},
   "outputs": [
    {
     "data": {
      "text/plain": [
       "<Axes: xlabel='count', ylabel='category'>"
      ]
     },
     "execution_count": 25,
     "metadata": {},
     "output_type": "execute_result"
    },
    {
     "data": {
      "image/png": "[encoded data removed]",
      "text/plain": [
       "<Figure size 640x480 with 1 Axes>"
      ]
     },
     "metadata": {},
     "output_type": "display_data"
    }
   ],
   "source": [
    "sns.countplot(y=df.category)\n",
    "\n",
    "# category 'Beauty and hygine' has the highest market share"
   ]
  },
  {
   "cell_type": "markdown",
   "id": "e280df17",
   "metadata": {},
   "source": [
    "# 3.3 brands that dominate a specific product category"
   ]
  },
  {
   "cell_type": "code",
   "execution_count": 26,
   "id": "4a3d68a9",
   "metadata": {},
   "outputs": [
    {
     "data": {
      "text/plain": [
       "category                  brand           \n",
       "Fruits & Vegetables       Fresho              544\n",
       "Foodgrains, Oil & Masala  bb Royal            525\n",
       "Kitchen, Garden & Pets    BB Home             299\n",
       "Beauty & Hygiene          INATUR              146\n",
       "Kitchen, Garden & Pets    DP                  136\n",
       "                                             ... \n",
       "Beauty & Hygiene          Karkhana              1\n",
       "Kitchen, Garden & Pets    Cosmo                 1\n",
       "Beauty & Hygiene          Kawach                1\n",
       "Eggs, Meat & Fish         Yummiez               1\n",
       "Kitchen, Garden & Pets    National Gardens      1\n",
       "Name: brand, Length: 2781, dtype: int64"
      ]
     },
     "execution_count": 26,
     "metadata": {},
     "output_type": "execute_result"
    }
   ],
   "source": [
    "df.groupby(['category','brand'])['brand'].count().sort_values(ascending=False)\n",
    "#fresho is the brand that is dominating in category' Fruits & Vegetables'  "
   ]
  },
  {
   "cell_type": "markdown",
   "id": "b768e35a",
   "metadata": {},
   "source": [
    "# 4. Overall customer Customer satisfaction"
   ]
  },
  {
   "cell_type": "code",
   "execution_count": 27,
   "id": "3ef61948",
   "metadata": {},
   "outputs": [],
   "source": [
    "df.rating=np.where(df.rating<=2.5,'Not Satisfied',df.rating)\n",
    "df.rating=np.where((df.rating>'2.5')&(df.rating<='4.0'),'Moderately Satisfied',df.rating)\n",
    "df.rating=np.where((df.rating>'4.0')&(df.rating<='5.0'),'Fully Satisfied',df.rating)"
   ]
  },
  {
   "cell_type": "code",
   "execution_count": 28,
   "id": "2b12c70d",
   "metadata": {},
   "outputs": [
    {
     "data": {
      "text/plain": [
       "rating\n",
       "Moderately Satisfied    16286\n",
       "Fully Satisfied         10256\n",
       "Not Satisfied            1013\n",
       "Name: count, dtype: int64"
      ]
     },
     "execution_count": 28,
     "metadata": {},
     "output_type": "execute_result"
    },
    {
     "data": {
      "image/png": "[encoded data removed]",
      "text/plain": [
       "<Figure size 640x480 with 1 Axes>"
      ]
     },
     "metadata": {},
     "output_type": "display_data"
    }
   ],
   "source": [
    "plt.pie(df.rating.value_counts(),labels=df.rating.value_counts().index,autopct='%1.1f%%',shadow=True)\n",
    "df.rating.value_counts()"
   ]
  },
  {
   "cell_type": "code",
   "execution_count": null,
   "id": "bb34d8f9",
   "metadata": {},
   "outputs": [],
   "source": []
  },
  {
   "cell_type": "code",
   "execution_count": null,
   "id": "a4ae3e0c",
   "metadata": {},
   "outputs": [],
   "source": []
  }
 ],
 "metadata": {
  "kernelspec": {
   "display_name": "Python 3 (ipykernel)",
   "language": "python",
   "name": "python3"
  },
  "language_info": {
   "codemirror_mode": {
    "name": "ipython",
    "version": 3
   },
   "file_extension": ".py",
   "mimetype": "text/x-python",
   "name": "python",
   "nbconvert_exporter": "python",
   "pygments_lexer": "ipython3",
   "version": "3.11.5"
  }
 },
 "nbformat": 4,
 "nbformat_minor": 5
}
